{
 "cells": [
  {
   "cell_type": "code",
   "execution_count": 31,
   "metadata": {},
   "outputs": [],
   "source": [
    "import pandas as pd\n",
    "import numpy as np\n",
    "import seaborn as sns  # 데이터 시각화 API\n",
    "import matplotlib.pyplot as plt  # 데이터 시각화 API\n",
    "%matplotlib inline"
   ]
  },
  {
   "cell_type": "code",
   "execution_count": 2,
   "metadata": {},
   "outputs": [
    {
     "data": {
      "text/plain": [
       "'1.1.3'"
      ]
     },
     "execution_count": 2,
     "metadata": {},
     "output_type": "execute_result"
    }
   ],
   "source": [
    "pd.__version__"
   ]
  },
  {
   "cell_type": "code",
   "execution_count": 25,
   "metadata": {},
   "outputs": [
    {
     "data": {
      "text/plain": [
       "'1.19.2'"
      ]
     },
     "execution_count": 25,
     "metadata": {},
     "output_type": "execute_result"
    }
   ],
   "source": [
    "np.__version__"
   ]
  },
  {
   "cell_type": "code",
   "execution_count": 29,
   "metadata": {},
   "outputs": [
    {
     "data": {
      "text/plain": [
       "'0.11.0'"
      ]
     },
     "execution_count": 29,
     "metadata": {},
     "output_type": "execute_result"
    }
   ],
   "source": [
    "sns.__version__"
   ]
  },
  {
   "cell_type": "markdown",
   "metadata": {},
   "source": [
    "### [pandas.to_datetime](https://pandas.pydata.org/pandas-docs/stable/reference/api/pandas.to_datetime.html#pandas-to-datetime)\n",
    "* 기존 'HIREDATE' 컬럼의 mm-dd-yyyy 형식을 yyyy-mm-dd 형식으로 변경함."
   ]
  },
  {
   "cell_type": "code",
   "execution_count": 52,
   "metadata": {},
   "outputs": [
    {
     "name": "stdout",
     "output_type": "stream",
     "text": [
      "<class 'pandas.core.frame.DataFrame'>\n"
     ]
    },
    {
     "data": {
      "text/html": [
       "<div>\n",
       "<style scoped>\n",
       "    .dataframe tbody tr th:only-of-type {\n",
       "        vertical-align: middle;\n",
       "    }\n",
       "\n",
       "    .dataframe tbody tr th {\n",
       "        vertical-align: top;\n",
       "    }\n",
       "\n",
       "    .dataframe thead th {\n",
       "        text-align: right;\n",
       "    }\n",
       "</style>\n",
       "<table border=\"1\" class=\"dataframe\">\n",
       "  <thead>\n",
       "    <tr style=\"text-align: right;\">\n",
       "      <th></th>\n",
       "      <th>EMPNO</th>\n",
       "      <th>ENAME</th>\n",
       "      <th>JOB</th>\n",
       "      <th>MGR</th>\n",
       "      <th>HIREDATE</th>\n",
       "      <th>SAL</th>\n",
       "      <th>COMM</th>\n",
       "      <th>DEPTNO</th>\n",
       "    </tr>\n",
       "  </thead>\n",
       "  <tbody>\n",
       "    <tr>\n",
       "      <th>0</th>\n",
       "      <td>7369</td>\n",
       "      <td>SMITH</td>\n",
       "      <td>CLERK</td>\n",
       "      <td>7902.0</td>\n",
       "      <td>1980-12-17</td>\n",
       "      <td>800</td>\n",
       "      <td>NaN</td>\n",
       "      <td>20</td>\n",
       "    </tr>\n",
       "    <tr>\n",
       "      <th>1</th>\n",
       "      <td>7499</td>\n",
       "      <td>ALLEN</td>\n",
       "      <td>SALESMAN</td>\n",
       "      <td>7698.0</td>\n",
       "      <td>1981-02-20</td>\n",
       "      <td>1600</td>\n",
       "      <td>300.0</td>\n",
       "      <td>30</td>\n",
       "    </tr>\n",
       "    <tr>\n",
       "      <th>2</th>\n",
       "      <td>7521</td>\n",
       "      <td>WARD</td>\n",
       "      <td>SALESMAN</td>\n",
       "      <td>7698.0</td>\n",
       "      <td>1981-02-22</td>\n",
       "      <td>1250</td>\n",
       "      <td>500.0</td>\n",
       "      <td>30</td>\n",
       "    </tr>\n",
       "    <tr>\n",
       "      <th>3</th>\n",
       "      <td>7566</td>\n",
       "      <td>JONES</td>\n",
       "      <td>MANAGER</td>\n",
       "      <td>7839.0</td>\n",
       "      <td>1981-04-02</td>\n",
       "      <td>2975</td>\n",
       "      <td>NaN</td>\n",
       "      <td>20</td>\n",
       "    </tr>\n",
       "    <tr>\n",
       "      <th>4</th>\n",
       "      <td>7654</td>\n",
       "      <td>MARTIN</td>\n",
       "      <td>SALESMAN</td>\n",
       "      <td>7698.0</td>\n",
       "      <td>1981-09-28</td>\n",
       "      <td>1250</td>\n",
       "      <td>1400.0</td>\n",
       "      <td>30</td>\n",
       "    </tr>\n",
       "    <tr>\n",
       "      <th>5</th>\n",
       "      <td>7698</td>\n",
       "      <td>BLAKE</td>\n",
       "      <td>MANAGER</td>\n",
       "      <td>7839.0</td>\n",
       "      <td>1981-05-01</td>\n",
       "      <td>2850</td>\n",
       "      <td>NaN</td>\n",
       "      <td>30</td>\n",
       "    </tr>\n",
       "    <tr>\n",
       "      <th>6</th>\n",
       "      <td>7839</td>\n",
       "      <td>KING</td>\n",
       "      <td>PRESIDENT</td>\n",
       "      <td>NaN</td>\n",
       "      <td>1981-11-17</td>\n",
       "      <td>5000</td>\n",
       "      <td>NaN</td>\n",
       "      <td>10</td>\n",
       "    </tr>\n",
       "    <tr>\n",
       "      <th>7</th>\n",
       "      <td>7844</td>\n",
       "      <td>TURNER</td>\n",
       "      <td>SALESMAN</td>\n",
       "      <td>7698.0</td>\n",
       "      <td>1981-09-08</td>\n",
       "      <td>1500</td>\n",
       "      <td>0.0</td>\n",
       "      <td>30</td>\n",
       "    </tr>\n",
       "    <tr>\n",
       "      <th>8</th>\n",
       "      <td>7900</td>\n",
       "      <td>JAMES</td>\n",
       "      <td>CLERK</td>\n",
       "      <td>7698.0</td>\n",
       "      <td>1981-12-03</td>\n",
       "      <td>950</td>\n",
       "      <td>NaN</td>\n",
       "      <td>30</td>\n",
       "    </tr>\n",
       "    <tr>\n",
       "      <th>9</th>\n",
       "      <td>7902</td>\n",
       "      <td>FORD</td>\n",
       "      <td>ANALYST</td>\n",
       "      <td>7566.0</td>\n",
       "      <td>1981-12-03</td>\n",
       "      <td>3000</td>\n",
       "      <td>NaN</td>\n",
       "      <td>20</td>\n",
       "    </tr>\n",
       "    <tr>\n",
       "      <th>10</th>\n",
       "      <td>7934</td>\n",
       "      <td>MILLER</td>\n",
       "      <td>CLERK</td>\n",
       "      <td>7782.0</td>\n",
       "      <td>1982-01-23</td>\n",
       "      <td>1300</td>\n",
       "      <td>NaN</td>\n",
       "      <td>10</td>\n",
       "    </tr>\n",
       "  </tbody>\n",
       "</table>\n",
       "</div>"
      ],
      "text/plain": [
       "    EMPNO   ENAME        JOB     MGR   HIREDATE   SAL    COMM  DEPTNO\n",
       "0    7369   SMITH      CLERK  7902.0 1980-12-17   800     NaN      20\n",
       "1    7499   ALLEN   SALESMAN  7698.0 1981-02-20  1600   300.0      30\n",
       "2    7521    WARD   SALESMAN  7698.0 1981-02-22  1250   500.0      30\n",
       "3    7566   JONES    MANAGER  7839.0 1981-04-02  2975     NaN      20\n",
       "4    7654  MARTIN   SALESMAN  7698.0 1981-09-28  1250  1400.0      30\n",
       "5    7698   BLAKE    MANAGER  7839.0 1981-05-01  2850     NaN      30\n",
       "6    7839    KING  PRESIDENT     NaN 1981-11-17  5000     NaN      10\n",
       "7    7844  TURNER   SALESMAN  7698.0 1981-09-08  1500     0.0      30\n",
       "8    7900   JAMES      CLERK  7698.0 1981-12-03   950     NaN      30\n",
       "9    7902    FORD    ANALYST  7566.0 1981-12-03  3000     NaN      20\n",
       "10   7934  MILLER      CLERK  7782.0 1982-01-23  1300     NaN      10"
      ]
     },
     "execution_count": 52,
     "metadata": {},
     "output_type": "execute_result"
    }
   ],
   "source": [
    "emp_df = pd.read_csv(r'0.dataSet/empAll.csv')\n",
    "emp_df['HIREDATE'] = pd.to_datetime(emp_df['HIREDATE'])\n",
    "print(type(emp_df))\n",
    "emp_df.head(20)"
   ]
  },
  {
   "cell_type": "code",
   "execution_count": 53,
   "metadata": {},
   "outputs": [
    {
     "data": {
      "text/html": [
       "<div>\n",
       "<style scoped>\n",
       "    .dataframe tbody tr th:only-of-type {\n",
       "        vertical-align: middle;\n",
       "    }\n",
       "\n",
       "    .dataframe tbody tr th {\n",
       "        vertical-align: top;\n",
       "    }\n",
       "\n",
       "    .dataframe thead th {\n",
       "        text-align: right;\n",
       "    }\n",
       "</style>\n",
       "<table border=\"1\" class=\"dataframe\">\n",
       "  <thead>\n",
       "    <tr style=\"text-align: right;\">\n",
       "      <th></th>\n",
       "      <th>EMPNO</th>\n",
       "      <th>ENAME</th>\n",
       "      <th>JOB</th>\n",
       "      <th>MGR</th>\n",
       "      <th>HIREDATE</th>\n",
       "      <th>SAL</th>\n",
       "      <th>COMM</th>\n",
       "      <th>DEPTNO</th>\n",
       "    </tr>\n",
       "  </thead>\n",
       "  <tbody>\n",
       "    <tr>\n",
       "      <th>6</th>\n",
       "      <td>7839</td>\n",
       "      <td>KING</td>\n",
       "      <td>PRESIDENT</td>\n",
       "      <td>NaN</td>\n",
       "      <td>1981-11-17</td>\n",
       "      <td>5000</td>\n",
       "      <td>NaN</td>\n",
       "      <td>10</td>\n",
       "    </tr>\n",
       "    <tr>\n",
       "      <th>9</th>\n",
       "      <td>7902</td>\n",
       "      <td>FORD</td>\n",
       "      <td>ANALYST</td>\n",
       "      <td>7566.0</td>\n",
       "      <td>1981-12-03</td>\n",
       "      <td>3000</td>\n",
       "      <td>NaN</td>\n",
       "      <td>20</td>\n",
       "    </tr>\n",
       "    <tr>\n",
       "      <th>3</th>\n",
       "      <td>7566</td>\n",
       "      <td>JONES</td>\n",
       "      <td>MANAGER</td>\n",
       "      <td>7839.0</td>\n",
       "      <td>1981-04-02</td>\n",
       "      <td>2975</td>\n",
       "      <td>NaN</td>\n",
       "      <td>20</td>\n",
       "    </tr>\n",
       "  </tbody>\n",
       "</table>\n",
       "</div>"
      ],
      "text/plain": [
       "   EMPNO  ENAME        JOB     MGR   HIREDATE   SAL  COMM  DEPTNO\n",
       "6   7839   KING  PRESIDENT     NaN 1981-11-17  5000   NaN      10\n",
       "9   7902   FORD    ANALYST  7566.0 1981-12-03  3000   NaN      20\n",
       "3   7566  JONES    MANAGER  7839.0 1981-04-02  2975   NaN      20"
      ]
     },
     "execution_count": 53,
     "metadata": {},
     "output_type": "execute_result"
    }
   ],
   "source": [
    "# 'SAL'이 가장 많은 상위 3명을 추출 후\n",
    "emp_df.sort_values(['SAL'], ascending=False).head(3)"
   ]
  },
  {
   "cell_type": "code",
   "execution_count": 54,
   "metadata": {},
   "outputs": [
    {
     "data": {
      "text/html": [
       "<div>\n",
       "<style scoped>\n",
       "    .dataframe tbody tr th:only-of-type {\n",
       "        vertical-align: middle;\n",
       "    }\n",
       "\n",
       "    .dataframe tbody tr th {\n",
       "        vertical-align: top;\n",
       "    }\n",
       "\n",
       "    .dataframe thead th {\n",
       "        text-align: right;\n",
       "    }\n",
       "</style>\n",
       "<table border=\"1\" class=\"dataframe\">\n",
       "  <thead>\n",
       "    <tr style=\"text-align: right;\">\n",
       "      <th></th>\n",
       "      <th>EMPNO</th>\n",
       "      <th>ENAME</th>\n",
       "      <th>JOB</th>\n",
       "      <th>MGR</th>\n",
       "      <th>HIREDATE</th>\n",
       "      <th>SAL</th>\n",
       "      <th>COMM</th>\n",
       "      <th>DEPTNO</th>\n",
       "    </tr>\n",
       "  </thead>\n",
       "  <tbody>\n",
       "    <tr>\n",
       "      <th>4</th>\n",
       "      <td>7654</td>\n",
       "      <td>MARTIN</td>\n",
       "      <td>SALESMAN</td>\n",
       "      <td>7698.0</td>\n",
       "      <td>1981-09-28</td>\n",
       "      <td>1250</td>\n",
       "      <td>1400.0</td>\n",
       "      <td>30</td>\n",
       "    </tr>\n",
       "    <tr>\n",
       "      <th>8</th>\n",
       "      <td>7900</td>\n",
       "      <td>JAMES</td>\n",
       "      <td>CLERK</td>\n",
       "      <td>7698.0</td>\n",
       "      <td>1981-12-03</td>\n",
       "      <td>950</td>\n",
       "      <td>NaN</td>\n",
       "      <td>30</td>\n",
       "    </tr>\n",
       "    <tr>\n",
       "      <th>0</th>\n",
       "      <td>7369</td>\n",
       "      <td>SMITH</td>\n",
       "      <td>CLERK</td>\n",
       "      <td>7902.0</td>\n",
       "      <td>1980-12-17</td>\n",
       "      <td>800</td>\n",
       "      <td>NaN</td>\n",
       "      <td>20</td>\n",
       "    </tr>\n",
       "  </tbody>\n",
       "</table>\n",
       "</div>"
      ],
      "text/plain": [
       "   EMPNO   ENAME       JOB     MGR   HIREDATE   SAL    COMM  DEPTNO\n",
       "4   7654  MARTIN  SALESMAN  7698.0 1981-09-28  1250  1400.0      30\n",
       "8   7900   JAMES     CLERK  7698.0 1981-12-03   950     NaN      30\n",
       "0   7369   SMITH     CLERK  7902.0 1980-12-17   800     NaN      20"
      ]
     },
     "execution_count": 54,
     "metadata": {},
     "output_type": "execute_result"
    }
   ],
   "source": [
    "# 'SAL'이 가장 적은 하위 3명을 추출 후 반환\n",
    "emp_df.sort_values(['SAL'], ascending=False).tail(3)"
   ]
  },
  {
   "cell_type": "markdown",
   "metadata": {},
   "source": [
    "* 로딩된 데이터 컬럼의 타입 확인"
   ]
  },
  {
   "cell_type": "code",
   "execution_count": 55,
   "metadata": {},
   "outputs": [
    {
     "name": "stdout",
     "output_type": "stream",
     "text": [
      "\n",
      " ### EMP 데이터 정보 ### \n",
      "\n",
      "<class 'pandas.core.frame.DataFrame'>\n",
      "RangeIndex: 11 entries, 0 to 10\n",
      "Data columns (total 8 columns):\n",
      " #   Column    Non-Null Count  Dtype         \n",
      "---  ------    --------------  -----         \n",
      " 0   EMPNO     11 non-null     int64         \n",
      " 1   ENAME     11 non-null     object        \n",
      " 2   JOB       11 non-null     object        \n",
      " 3   MGR       10 non-null     float64       \n",
      " 4   HIREDATE  11 non-null     datetime64[ns]\n",
      " 5   SAL       11 non-null     int64         \n",
      " 6   COMM      4 non-null      float64       \n",
      " 7   DEPTNO    11 non-null     int64         \n",
      "dtypes: datetime64[ns](1), float64(2), int64(3), object(2)\n",
      "memory usage: 832.0+ bytes\n",
      "None\n"
     ]
    }
   ],
   "source": [
    "print('\\n ### EMP 데이터 정보 ### \\n')\n",
    "print(emp_df.info())"
   ]
  },
  {
   "cell_type": "markdown",
   "metadata": {},
   "source": [
    "* 만약 사이킷런(sklearn) 머신러닝을 사용한다면 Null 값을 허용하지 않기 때문에 이를 처리할 필요가 있음.\n",
    "* DataFrame의 `fillna()` 함수를 사용해 간단하게 평균 또는 고정 값으로 변경할 수 있음.\n",
    "* 이번 예제에서 MGR 컬럼과 COMM 컬럼의 경우는 'N' 값으로 변경한 후, Null 값의 유무를 확인함."
   ]
  },
  {
   "cell_type": "code",
   "execution_count": 56,
   "metadata": {},
   "outputs": [
    {
     "name": "stdout",
     "output_type": "stream",
     "text": [
      "## Dataset Null 값 갯수:  0\n"
     ]
    }
   ],
   "source": [
    "emp_df['MGR'].fillna('N', inplace=True)\n",
    "emp_df['COMM'].fillna('N', inplace=True)\n",
    "print('## Dataset Null 값 갯수: ', emp_df.isnull().sum().sum())"
   ]
  },
  {
   "cell_type": "markdown",
   "metadata": {},
   "source": [
    "* 문자열 Feature인 'JOB' 컬럼의 값 분류를 확인함."
   ]
  },
  {
   "cell_type": "code",
   "execution_count": 23,
   "metadata": {},
   "outputs": [
    {
     "name": "stdout",
     "output_type": "stream",
     "text": [
      "\"JOB\" 값 분포:\n",
      " SALESMAN     4\n",
      "CLERK        3\n",
      "MANAGER      2\n",
      "ANALYST      1\n",
      "PRESIDENT    1\n",
      "Name: JOB, dtype: int64\n"
     ]
    }
   ],
   "source": [
    "print('\"JOB\" 값 분포:\\n', emp_df['JOB'].value_counts())"
   ]
  },
  {
   "cell_type": "markdown",
   "metadata": {},
   "source": [
    "* 부서별(DEPTNO)에 따른 직업(JOB)의 분포를 확인함."
   ]
  },
  {
   "cell_type": "code",
   "execution_count": 57,
   "metadata": {},
   "outputs": [
    {
     "data": {
      "text/plain": [
       "JOB        DEPTNO\n",
       "ANALYST    20        1\n",
       "CLERK      10        1\n",
       "           20        1\n",
       "           30        1\n",
       "MANAGER    20        1\n",
       "           30        1\n",
       "PRESIDENT  10        1\n",
       "SALESMAN   30        4\n",
       "Name: DEPTNO, dtype: int64"
      ]
     },
     "execution_count": 57,
     "metadata": {},
     "output_type": "execute_result"
    }
   ],
   "source": [
    "emp_df.groupby(['JOB', 'DEPTNO'])['DEPTNO'].count()"
   ]
  },
  {
   "cell_type": "code",
   "execution_count": 58,
   "metadata": {},
   "outputs": [
    {
     "data": {
      "text/plain": [
       "<AxesSubplot:xlabel='JOB', ylabel='DEPTNO'>"
      ]
     },
     "execution_count": 58,
     "metadata": {},
     "output_type": "execute_result"
    },
    {
     "data": {
      "image/png": "[encoded data removed]",
      "text/plain": [
       "<Figure size 432x288 with 1 Axes>"
      ]
     },
     "metadata": {
      "needs_background": "light"
     },
     "output_type": "display_data"
    }
   ],
   "source": [
    "sns.barplot(x='JOB', y='DEPTNO', data=emp_df)"
   ]
  },
  {
   "cell_type": "markdown",
   "metadata": {},
   "source": [
    "* 급여(SAL)의 분포를 확인함."
   ]
  },
  {
   "cell_type": "code",
   "execution_count": 75,
   "metadata": {},
   "outputs": [
    {
     "data": {
      "image/png": "[encoded data removed]",
      "text/plain": [
       "<Figure size 720x432 with 1 Axes>"
      ]
     },
     "metadata": {
      "needs_background": "light"
     },
     "output_type": "display_data"
    }
   ],
   "source": [
    "# 입력 sal에 따라 구분 값을 반환하는 함수 설정. DataFrame의 apply lambda식에 사용됨.\n",
    "def get_category(sal):\n",
    "    cat = ''\n",
    "    if sal <= -1: cat = 'Unknown?'\n",
    "    elif sal <= 1000: cat = 'Rank3'\n",
    "    elif sal <= 2000: cat = 'Rank2'\n",
    "    else: cat = 'Rank1'\n",
    "        \n",
    "    return cat\n",
    "\n",
    "# 막대그래프의 크기 figure를 보다 크게 설정함.\n",
    "plt.figure(figsize=(10,6))\n",
    "plt.title('Top SAL(salary) List')\n",
    "\n",
    "# X 축의 값을 순차적으로 표시하기 위한 설정\n",
    "group_names = ['Unknown?', 'Rank3', 'Rank2', 'Rank1']\n",
    "\n",
    "# lambda 식에 앞서 생성한 get_category() 함수를 반환값으로 지정함.\n",
    "# get_category(X)는 입력값으로 'SAL' 컬럼 값\n",
    "emp_df['SAL_cat'] = emp_df['SAL'].apply(lambda x : get_category(x))\n",
    "sns.barplot(x='SAL_cat', y='SAL', hue='SAL', data=emp_df, order=group_names)\n",
    "emp_df.drop('SAL_cat', axis=1, inplace=True)"
   ]
  },
  {
   "cell_type": "markdown",
   "metadata": {},
   "source": [
    "### [pandas.Series.map](https://pandas.pydata.org/pandas-docs/stable/reference/api/pandas.Series.map.html?highlight=map#pandas-series-map)\n",
    "* 특정 Key값을 여러 값으로 치환"
   ]
  },
  {
   "cell_type": "code",
   "execution_count": 35,
   "metadata": {},
   "outputs": [
    {
     "data": {
      "text/plain": [
       "array(['경리부', '인사부', '인사부', '경리부', '인사부', '인사부', '총무부', '인사부', '인사부',\n",
       "       '경리부', '총무부'], dtype='<U3')"
      ]
     },
     "execution_count": 35,
     "metadata": {},
     "output_type": "execute_result"
    }
   ],
   "source": [
    "# 1_numpy.where()\n",
    "np.where(emp_df['DEPTNO'] == 10, '총무부',\n",
    "         np.where(emp_df['DEPTNO'] == 20, '경리부', '인사부'))"
   ]
  },
  {
   "cell_type": "code",
   "execution_count": 36,
   "metadata": {},
   "outputs": [
    {
     "data": {
      "text/plain": [
       "0     경리부\n",
       "1     인사부\n",
       "2     인사부\n",
       "3     경리부\n",
       "4     인사부\n",
       "5     인사부\n",
       "6     총무부\n",
       "7     인사부\n",
       "8     인사부\n",
       "9     경리부\n",
       "10    총무부\n",
       "Name: DEPTNO, dtype: object"
      ]
     },
     "execution_count": 36,
     "metadata": {},
     "output_type": "execute_result"
    }
   ],
   "source": [
    "# 2_dictionary + map\n",
    "dict_deptno = { 10: '총무부', 20: '경리부', 30: '인사부' }\n",
    "emp_df['DEPTNO'].map(dict_deptno)  # Dictionary의 key값으로 전달 후 value 출력"
   ]
  },
  {
   "cell_type": "code",
   "execution_count": 37,
   "metadata": {},
   "outputs": [
    {
     "data": {
      "text/plain": [
       "0     경리부\n",
       "1     인사부\n",
       "2     인사부\n",
       "3     경리부\n",
       "4     인사부\n",
       "5     인사부\n",
       "6     총무부\n",
       "7     인사부\n",
       "8     인사부\n",
       "9     경리부\n",
       "10    총무부\n",
       "Name: DEPTNO, dtype: object"
      ]
     },
     "execution_count": 37,
     "metadata": {},
     "output_type": "execute_result"
    }
   ],
   "source": [
    "# 3_pandas.replace()\n",
    "emp_df['DEPTNO'].replace(dict_deptno)"
   ]
  },
  {
   "cell_type": "markdown",
   "metadata": {},
   "source": [
    "### [pandas.cut](https://pandas.pydata.org/pandas-docs/stable/reference/api/pandas.cut.html?highlight=cut#pandas-cut)\n",
    "```python\n",
    "pandas.cut(x, bins, right=True, labels=None, retbins=False, precision=3, include_lowest=False, duplicates='raise', ordered=True)\n",
    "```\n",
    "> **x**: array data  \n",
    "> **bins**: 최소・최댓값  \n",
    "> **right**: 범위의 최댓값 개방 여부(True: 초과 ~ 이하, False: 이상 ~ 미만)  \n",
    "> **labels**: 그룹 이름 지정  \n",
    "> **precision**: 라벨이 없는 경우의 정밀도(소수점 갯수)  "
   ]
  },
  {
   "cell_type": "code",
   "execution_count": 38,
   "metadata": {},
   "outputs": [
    {
     "data": {
      "text/plain": [
       "0      800\n",
       "1     1600\n",
       "2     1250\n",
       "3     2975\n",
       "4     1250\n",
       "5     2850\n",
       "6     5000\n",
       "7     1500\n",
       "8      950\n",
       "9     3000\n",
       "10    1300\n",
       "Name: SAL, dtype: int64"
      ]
     },
     "execution_count": 38,
     "metadata": {},
     "output_type": "execute_result"
    }
   ],
   "source": [
    "emp_df['SAL']"
   ]
  },
  {
   "cell_type": "code",
   "execution_count": 39,
   "metadata": {},
   "outputs": [
    {
     "data": {
      "text/plain": [
       "array(['3등급', '2등급', '2등급', '1등급', '2등급', '1등급', '1등급', '2등급', '3등급',\n",
       "       '1등급', '2등급'], dtype='<U3')"
      ]
     },
     "execution_count": 39,
     "metadata": {},
     "output_type": "execute_result"
    }
   ],
   "source": [
    "# 1_numpy.where()\n",
    "np.where(emp_df['SAL'] <= 1000, '3등급',\n",
    "        np.where(emp_df['SAL'] <= 2000, '2등급', '1등급'))"
   ]
  },
  {
   "cell_type": "code",
   "execution_count": 40,
   "metadata": {},
   "outputs": [
    {
     "data": {
      "text/plain": [
       "0        (0, 1000]\n",
       "1     (1000, 2000]\n",
       "2     (1000, 2000]\n",
       "3     (2000, 9999]\n",
       "4     (1000, 2000]\n",
       "5     (2000, 9999]\n",
       "6     (2000, 9999]\n",
       "7     (1000, 2000]\n",
       "8        (0, 1000]\n",
       "9     (2000, 9999]\n",
       "10    (1000, 2000]\n",
       "Name: SAL, dtype: category\n",
       "Categories (3, interval[int64]): [(0, 1000] < (1000, 2000] < (2000, 9999]]"
      ]
     },
     "execution_count": 40,
     "metadata": {},
     "output_type": "execute_result"
    }
   ],
   "source": [
    "# 2_pandas.cut()\n",
    "pd.cut(emp_df['SAL'], [0, 1000, 2000, 9999])"
   ]
  },
  {
   "cell_type": "code",
   "execution_count": 41,
   "metadata": {},
   "outputs": [
    {
     "data": {
      "text/plain": [
       "0     3등급\n",
       "1     2등급\n",
       "2     2등급\n",
       "3     1등급\n",
       "4     2등급\n",
       "5     1등급\n",
       "6     1등급\n",
       "7     2등급\n",
       "8     3등급\n",
       "9     1등급\n",
       "10    2등급\n",
       "Name: SAL, dtype: category\n",
       "Categories (3, object): ['3등급' < '2등급' < '1등급']"
      ]
     },
     "execution_count": 41,
     "metadata": {},
     "output_type": "execute_result"
    }
   ],
   "source": [
    "pd.cut(emp_df['SAL'], [0, 1000, 2000, 9999], right=False, labels=['3등급', '2등급', '1등급'])"
   ]
  },
  {
   "cell_type": "markdown",
   "metadata": {},
   "source": [
    "* **codes**: 각 그룹 순서 확인  \n",
    "* **categories**: 각 그룹 이름 확인  \n",
    "* **value_counts()**: 각 그룹 데이터 수"
   ]
  },
  {
   "cell_type": "code",
   "execution_count": 42,
   "metadata": {},
   "outputs": [
    {
     "name": "stdout",
     "output_type": "stream",
     "text": [
      "[0 1 1 2 1 2 2 1 0 2 1]\n",
      "==========\n",
      "Index(['3등급', '2등급', '1등급'], dtype='object')\n",
      "==========\n",
      "2등급    5\n",
      "1등급    4\n",
      "3등급    2\n",
      "dtype: int64\n"
     ]
    }
   ],
   "source": [
    "emp_sal = pd.cut(np.array(emp_df['SAL']), [0, 1000, 2000, 9999], labels=['3등급', '2등급', '1등급'])\n",
    "print(emp_sal.codes)\n",
    "print('=' * 10)\n",
    "print(emp_sal.categories)\n",
    "print('=' * 10)\n",
    "print(pd.value_counts(emp_sal))"
   ]
  },
  {
   "cell_type": "code",
   "execution_count": 43,
   "metadata": {},
   "outputs": [
    {
     "data": {
      "text/plain": [
       "(795.8, 1850.0]     7\n",
       "(2900.0, 3950.0]    2\n",
       "(3950.0, 5000.0]    1\n",
       "(1850.0, 2900.0]    1\n",
       "dtype: int64"
      ]
     },
     "execution_count": 43,
     "metadata": {},
     "output_type": "execute_result"
    }
   ],
   "source": [
    "emp_med_sal = pd.cut(np.array(emp_df['SAL']), 4)  # 범위가 균등한 그룹 갯수 지정\n",
    "pd.value_counts(emp_med_sal)"
   ]
  },
  {
   "cell_type": "code",
   "execution_count": null,
   "metadata": {},
   "outputs": [],
   "source": []
  }
 ],
 "metadata": {
  "kernelspec": {
   "display_name": "Python 3",
   "language": "python",
   "name": "python3"
  },
  "language_info": {
   "codemirror_mode": {
    "name": "ipython",
    "version": 3
   },
   "file_extension": ".py",
   "mimetype": "text/x-python",
   "name": "python",
   "nbconvert_exporter": "python",
   "pygments_lexer": "ipython3",
   "version": "3.8.5"
  }
 },
 "nbformat": 4,
 "nbformat_minor": 4
}
